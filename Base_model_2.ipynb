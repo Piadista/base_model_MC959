{
 "cells": [
  {
   "cell_type": "markdown",
   "id": "c6ce98eb-b1af-4dd1-a3b1-f8a00cb7d762",
   "metadata": {},
   "source": [
    "# Base Model\n",
    "\n",
    "A feedforward multilayer ANN for classification task of CVEs - in their vectorization format - into their corresponding CWE.\n",
    "\n",
    "To do:\n",
    "- Transform CVE data into vector format\n",
    "- Train the model!"
   ]
  },
  {
   "cell_type": "markdown",
   "id": "fc92624d-7d68-414e-8539-1edfcbfdffd8",
   "metadata": {},
   "source": [
    "### Import the necessary libraries"
   ]
  },
  {
   "cell_type": "markdown",
   "id": "6a98eff6-40c5-4e53-a257-cc52500fe944",
   "metadata": {},
   "source": [
    "Install libraries"
   ]
  },
  {
   "cell_type": "code",
   "execution_count": 1,
   "id": "7d65d391-292a-4918-913c-29498b350bfb",
   "metadata": {},
   "outputs": [],
   "source": [
    "# !pip install Pinecone\n",
    "# !pip install torch\n",
    "# !pip install transformers\n",
    "# !pip install peft"
   ]
  },
  {
   "cell_type": "markdown",
   "id": "7176c984-f846-4bc7-8ec3-c9cbfa831691",
   "metadata": {},
   "source": [
    "Import libraries"
   ]
  },
  {
   "cell_type": "code",
   "execution_count": 3,
   "id": "1beb95a4-7d6a-4a19-9811-69bec3e994d4",
   "metadata": {},
   "outputs": [],
   "source": [
    "import numpy as np\n",
    "import pandas as pd\n",
    "import matplotlib.pyplot as plt\n",
    "import re\n",
    "\n",
    "from pinecone import Pinecone\n",
    "\n",
    "import torch\n",
    "import torch.nn as nn\n",
    "from torch.utils.data import DataLoader, TensorDataset, random_split\n",
    "\n",
    "from peft import PeftModel\n",
    "from transformers import AutoTokenizer, AutoModelForMaskedLM\n",
    "\n",
    "from sklearn.metrics import accuracy_score, precision_score, recall_score, f1_score\n",
    "from sklearn.preprocessing import LabelEncoder"
   ]
  },
  {
   "cell_type": "markdown",
   "id": "a382622c-81fa-4b22-9167-71c779e1c15d",
   "metadata": {},
   "source": [
    "### Import data for supervised learning"
   ]
  },
  {
   "cell_type": "markdown",
   "id": "9ef01fd8-1593-4137-b7a6-8f62bb32ade8",
   "metadata": {},
   "source": [
    "Import data in the csv folders"
   ]
  },
  {
   "cell_type": "code",
   "execution_count": 4,
   "id": "b3d62c69-cec0-4f51-99e7-99f6138a0982",
   "metadata": {},
   "outputs": [],
   "source": [
    "number_of_cwes = 1427\n",
    "\n",
    "### Train data\n",
    "# Step 1: Load the CSV file\n",
    "file_path_train = \"train.csv\"\n",
    "data_train = pd.read_csv(file_path_train)\n",
    "\n",
    "# Step 2: Separate X and Y\n",
    "X_train = [s[:-1] if s.endswith('.') else s for s in data_train.iloc[:, 1].values]  # Keep only the CVE description\n",
    "Y_train = data_train.iloc[:, 2:].values  # Latter two columns for targets\n",
    "\n",
    "# Extract numeric part from 'CWE-' using list comprehension and regex\n",
    "numeric_cwe_train = np.array([int(re.search(r'CWE-(\\d{1,4})', row[0]).group(1)) for row in Y_train])\n",
    "\n",
    "# Create one-hot encoded matrix\n",
    "one_hot_encoded_fixed_train = np.zeros((len(numeric_cwe_train), number_of_cwes))  # Initialize with zeros\n",
    "\n",
    "# Set the position corresponding to the CWE ID to 1\n",
    "for i, cwe_id in enumerate(numeric_cwe_train):\n",
    "    one_hot_encoded_fixed_train[i, cwe_id-1] = 1  # Set the position `cwe_id - 1` to 1\n",
    "\n",
    "### Test data\n",
    "file_path_test = \"test.csv\"\n",
    "data_test = pd.read_csv(file_path_test)\n",
    "\n",
    "# Step 2: Separate X and Y\n",
    "X_test = [s[:-1] if s.endswith('.') else s for s in data_test.iloc[:, 1].values] # Keep only the CVE description\n",
    "Y_test = data_test.iloc[:, 2:].values  # Latter two columns for targets\n",
    "\n",
    "# Extract numeric part from 'CWE-' using list comprehension and regex\n",
    "numeric_cwe_test = np.array([int(re.search(r'CWE-(\\d{1,4})', row[0]).group(1)) for row in Y_test])\n",
    "\n",
    "# Create one-hot encoded matrix\n",
    "one_hot_encoded_fixed_test = np.zeros((len(numeric_cwe_test), number_of_cwes))  # Initialize with zeros\n",
    "\n",
    "# Set the position corresponding to the CWE ID to 1\n",
    "for i, cwe_id in enumerate(numeric_cwe_test):\n",
    "    one_hot_encoded_fixed_test[i, cwe_id-1] = 1  # Set the position `cwe_id - 1` to 1"
   ]
  },
  {
   "cell_type": "markdown",
   "id": "13855229-6c49-4bb3-bb1d-56ad28d9df02",
   "metadata": {},
   "source": [
    "Loading model for embedding the CVEs description"
   ]
  },
  {
   "cell_type": "code",
   "execution_count": 7,
   "id": "f061e98f-1ea5-4eb2-9a3b-42322db309bf",
   "metadata": {},
   "outputs": [
    {
     "name": "stderr",
     "output_type": "stream",
     "text": [
      "/home/guilherme/.local/lib/python3.10/site-packages/transformers/generation/configuration_utils.py:774: UserWarning: `return_dict_in_generate` is NOT set to `True`, but `output_hidden_states` is. When `return_dict_in_generate` is not `True`, `output_hidden_states` is ignored.\n",
      "  warnings.warn(\n",
      "Some weights of the model checkpoint at bert-base-uncased were not used when initializing BertForMaskedLM: ['bert.pooler.dense.bias', 'bert.pooler.dense.weight', 'cls.seq_relationship.bias', 'cls.seq_relationship.weight']\n",
      "- This IS expected if you are initializing BertForMaskedLM from the checkpoint of a model trained on another task or with another architecture (e.g. initializing a BertForSequenceClassification model from a BertForPreTraining model).\n",
      "- This IS NOT expected if you are initializing BertForMaskedLM from the checkpoint of a model that you expect to be exactly identical (initializing a BertForSequenceClassification model from a BertForSequenceClassification model).\n"
     ]
    }
   ],
   "source": [
    "MODEL_VERSION = 1\n",
    "\n",
    "base_model_name = \"bert-base-uncased\"\n",
    "adapter_path = f\"./models/model_{MODEL_VERSION}/fine_tuned_lora_mlm\"\n",
    "\n",
    "tokenizer = AutoTokenizer.from_pretrained(base_model_name)\n",
    "\n",
    "base_model = AutoModelForMaskedLM.from_pretrained(base_model_name, output_hidden_states=True)\n",
    "model_embedding = PeftModel.from_pretrained(base_model, adapter_path)"
   ]
  },
  {
   "cell_type": "code",
   "execution_count": 5,
   "id": "613a4537-2118-4f12-b855-bc26e4b9e678",
   "metadata": {
    "jupyter": {
     "source_hidden": true
    }
   },
   "outputs": [
    {
     "name": "stderr",
     "output_type": "stream",
     "text": [
      "BertForMaskedLM has generative capabilities, as `prepare_inputs_for_generation` is explicitly overwritten. However, it doesn't directly inherit from `GenerationMixin`. From 👉v4.50👈 onwards, `PreTrainedModel` will NOT inherit from `GenerationMixin`, and this model will lose the ability to call `generate` and other related functions.\n",
      "  - If you're using `trust_remote_code=True`, you can get rid of this warning by loading the model with an auto class. See https://huggingface.co/docs/transformers/en/model_doc/auto#auto-classes\n",
      "  - If you are the owner of the model architecture code, please modify your model class such that it inherits from `GenerationMixin` (after `PreTrainedModel`, otherwise you'll get an exception).\n",
      "  - If you are not the owner of the model architecture class, please contact the model code owner to update it.\n",
      "Some weights of the model checkpoint at bert-base-uncased were not used when initializing BertForMaskedLM: ['bert.pooler.dense.bias', 'bert.pooler.dense.weight', 'cls.seq_relationship.bias', 'cls.seq_relationship.weight']\n",
      "- This IS expected if you are initializing BertForMaskedLM from the checkpoint of a model trained on another task or with another architecture (e.g. initializing a BertForSequenceClassification model from a BertForPreTraining model).\n",
      "- This IS NOT expected if you are initializing BertForMaskedLM from the checkpoint of a model that you expect to be exactly identical (initializing a BertForSequenceClassification model from a BertForSequenceClassification model).\n",
      "/home/guilherme/.local/lib/python3.10/site-packages/torch/cuda/__init__.py:129: UserWarning: CUDA initialization: CUDA unknown error - this may be due to an incorrectly set up environment, e.g. changing env variable CUDA_VISIBLE_DEVICES after program start. Setting the available devices to be zero. (Triggered internally at ../c10/cuda/CUDAFunctions.cpp:108.)\n",
      "  return torch._C._cuda_getDeviceCount() > 0\n"
     ]
    }
   ],
   "source": [
    "# Set a version number for the model to manage multiple versions effectively\n",
    "MODEL_VERSION = 1\n",
    "\n",
    "base_model_name = \"bert-base-uncased\"\n",
    "adapter_path = f\"/home/guilherme/Documents/MC959/Projeto/models/model_{MODEL_VERSION}/fine_tuned_lora_mlm\"\n",
    "\n",
    "base_model = AutoModelForMaskedLM.from_pretrained(base_model_name)\n",
    "\n",
    "model_embedding = PeftModel.from_pretrained(base_model, adapter_path)\n",
    "tokenizer = AutoTokenizer.from_pretrained(base_model_name)"
   ]
  },
  {
   "cell_type": "markdown",
   "id": "d934e08e-235b-4176-b90a-bae7cbf43f1a",
   "metadata": {},
   "source": [
    "Transform train and test data into their embedding format"
   ]
  },
  {
   "cell_type": "code",
   "execution_count": 9,
   "id": "e7913bd4-df71-40e7-a3c7-2a54ef55ddd0",
   "metadata": {},
   "outputs": [],
   "source": [
    "# Função para codificar as entradas usando o modelo LoRA\n",
    "def encoder(inputs):\n",
    "    embeddings = []\n",
    "    for input_text in inputs:\n",
    "        # Tokenizar a entrada\n",
    "        tokens = tokenizer(input_text, return_tensors=\"pt\", truncation=True, padding=True, max_length=128)\n",
    "\n",
    "        # Certifique-se de que os tensores estejam na mesma device do modelo\n",
    "        tokens = {key: val for key, val in tokens.items()}\n",
    "\n",
    "        # Passar os tokens pelo modelo (incluindo os adaptadores LoRA)\n",
    "        with torch.no_grad():\n",
    "            outputs = model_embedding(**tokens)  # Chamada ao modelo\n",
    "            # Extração do embedding da última camada oculta\n",
    "            embedding = outputs.hidden_states[-1].mean(dim=1).squeeze().cpu().numpy()\n",
    "            embeddings.append(embedding)\n",
    "\n",
    "    return embeddings\n",
    "\n",
    "# Generate embeddings for a list of CVE descriptions\n",
    "embeddings_train = encoder(X_train)\n",
    "embeddings_test = encoder(X_test)"
   ]
  },
  {
   "cell_type": "code",
   "execution_count": 14,
   "id": "d3dca726-456b-4b7b-88eb-dc701e728173",
   "metadata": {},
   "outputs": [
    {
     "name": "stdout",
     "output_type": "stream",
     "text": [
      "2392\n",
      "2392\n"
     ]
    }
   ],
   "source": [
    "print(len(embeddings_train))\n",
    "print(len(Y_train))"
   ]
  },
  {
   "cell_type": "markdown",
   "id": "1654be14-e73d-441a-adfb-a763a207eabe",
   "metadata": {},
   "source": [
    "### ANN Definition"
   ]
  },
  {
   "cell_type": "markdown",
   "id": "bc965533-ac9b-48d8-a70c-f464585367f8",
   "metadata": {},
   "source": [
    "Hyperparameters"
   ]
  },
  {
   "cell_type": "code",
   "execution_count": 15,
   "id": "937b7706-e6c5-474f-a625-51b6fe396ba1",
   "metadata": {},
   "outputs": [],
   "source": [
    "input_size = 768          # Input vector size (V_CVE_size)\n",
    "num_classes = number_of_cwes              # Number of output classes (N_CWE)\n",
    "hidden_sizes = [256, 128, 64]    # Sizes of hidden layers\n",
    "activation_function = nn.ReLU    # Activation function to be used\n",
    "batch_size = 32                  # Batch size\n",
    "learning_rate = 1e-3             # Learning rate\n",
    "num_epochs = 100                  # Number of training epochs\n",
    "dropout_prob = 0.5             # Dropout probability for regularization (not used!)"
   ]
  },
  {
   "cell_type": "markdown",
   "id": "d3989930-7d9e-464c-a0e0-74c7af5772e4",
   "metadata": {},
   "source": [
    "Neural network model"
   ]
  },
  {
   "cell_type": "code",
   "execution_count": 16,
   "id": "63ed7f64-81f9-4975-beb6-719f574ee6df",
   "metadata": {},
   "outputs": [],
   "source": [
    "# Build the neural network model dynamically\n",
    "layers = []\n",
    "\n",
    "# Input layer\n",
    "layers.append(nn.Linear(input_size, hidden_sizes[0]))\n",
    "layers.append(activation_function())\n",
    "\n",
    "# Hidden layers\n",
    "for i in range(len(hidden_sizes) - 1):\n",
    "    layers.append(nn.Linear(hidden_sizes[i], hidden_sizes[i+1]))\n",
    "    layers.append(activation_function())\n",
    "    layers.append(nn.Dropout(dropout_prob))\n",
    "\n",
    "# Output layer\n",
    "layers.append(nn.Linear(hidden_sizes[-1], num_classes))\n",
    "layers.append(nn.Softmax(dim=1))\n",
    "\n",
    "# Create the sequential model\n",
    "model = nn.Sequential(*layers)"
   ]
  },
  {
   "cell_type": "code",
   "execution_count": 17,
   "id": "0fce6e88-f95a-4c49-8497-8473e2df537d",
   "metadata": {},
   "outputs": [
    {
     "name": "stdout",
     "output_type": "stream",
     "text": [
      "Neural Network Model:\n",
      "Sequential(\n",
      "  (0): Linear(in_features=768, out_features=256, bias=True)\n",
      "  (1): ReLU()\n",
      "  (2): Linear(in_features=256, out_features=128, bias=True)\n",
      "  (3): ReLU()\n",
      "  (4): Dropout(p=0.5, inplace=False)\n",
      "  (5): Linear(in_features=128, out_features=64, bias=True)\n",
      "  (6): ReLU()\n",
      "  (7): Dropout(p=0.5, inplace=False)\n",
      "  (8): Linear(in_features=64, out_features=1427, bias=True)\n",
      "  (9): Softmax(dim=1)\n",
      ")\n"
     ]
    }
   ],
   "source": [
    "print(\"Neural Network Model:\")\n",
    "print(model)"
   ]
  },
  {
   "cell_type": "markdown",
   "id": "b28f79d2-2167-4572-9351-9e31b620b610",
   "metadata": {},
   "source": [
    "Loss function"
   ]
  },
  {
   "cell_type": "code",
   "execution_count": 18,
   "id": "5708d07c-087e-43ac-aec8-73134717028c",
   "metadata": {},
   "outputs": [],
   "source": [
    "# Loss function definiton\n",
    "\n",
    "loss_fn = nn.CrossEntropyLoss()"
   ]
  },
  {
   "cell_type": "markdown",
   "id": "106df99f-efad-4ae3-a773-f2fb7264a415",
   "metadata": {},
   "source": [
    "Optimization method"
   ]
  },
  {
   "cell_type": "code",
   "execution_count": 19,
   "id": "9f062d9f-3cc8-4e7c-bcee-9afe288971c6",
   "metadata": {},
   "outputs": [],
   "source": [
    "# Defining the optimization method\n",
    "optimizer = torch.optim.Adam(model.parameters(), lr=learning_rate)"
   ]
  },
  {
   "cell_type": "markdown",
   "id": "97411a31-2ed8-4a40-b3df-70cbc6284324",
   "metadata": {},
   "source": [
    "### ANN training"
   ]
  },
  {
   "cell_type": "markdown",
   "id": "91fb56c8-eb09-4241-9d78-07b36b1925ba",
   "metadata": {},
   "source": [
    "Prepare data for training"
   ]
  },
  {
   "cell_type": "code",
   "execution_count": 28,
   "id": "5454118c-975b-4988-87f6-0f2963ed281c",
   "metadata": {},
   "outputs": [],
   "source": [
    "num_samples = 10\n",
    "\n",
    "X_train = torch.tensor(embeddings_train, dtype=torch.float32)\n",
    "y_train = torch.tensor(one_hot_encoded_fixed_train, dtype=torch.float32)  # CrossEntropyLoss expects labels of type Long\n",
    "\n",
    "# Create a TensorDataset from X_train and y_train\n",
    "train_dataset = TensorDataset(X_train, y_train)\n",
    "\n",
    "X_test = torch.tensor(embeddings_test, dtype=torch.float32)\n",
    "y_test = torch.tensor(one_hot_encoded_fixed_test, dtype=torch.float32)  # CrossEntropyLoss expects labels of type Long\n",
    "\n",
    "# Create a TensorDataset from X_train and y_train\n",
    "test_dataset = TensorDataset(X_test, y_test)\n",
    "\n",
    "# # Ensure no missing values\n",
    "# if np.isnan(X_array).any():\n",
    "#     print(\"Data contains NaN values. Removing rows with NaN values...\")\n",
    "#     # Create a mask for rows without NaNs\n",
    "#     mask = ~np.isnan(X_array).any(axis=1)\n",
    "    \n",
    "#     # Filter X_array and y_array using the mask\n",
    "#     X_array = X_array[mask]\n",
    "#     y_array = y_array[mask]\n",
    "\n",
    "# # Convert data to PyTorch tensors\n",
    "# X_tensor = torch.tensor(X_array, dtype=torch.float32)\n",
    "# y_tensor = torch.tensor(y_array, dtype=torch.long)  # CrossEntropyLoss expects labels of type Long\n",
    "\n",
    "# # Define split proportions\n",
    "# train_size = int(0.7 * len(full_dataset))\n",
    "# test_size = int(0.3 * len(full_dataset))\n",
    "\n",
    "# # Split the dataset\n",
    "# train_dataset, test_dataset = random_split(full_dataset, [train_size, test_size])\n",
    "\n",
    "# Create DataLoaders\n",
    "train_loader = DataLoader(train_dataset, batch_size=batch_size, shuffle=True)\n",
    "test_loader  = DataLoader(test_dataset, batch_size=batch_size, shuffle=False)"
   ]
  },
  {
   "cell_type": "markdown",
   "id": "01df45a0-14ea-4397-a670-1d7d56579857",
   "metadata": {},
   "source": [
    "Store data for training and the accuracy of the model"
   ]
  },
  {
   "cell_type": "code",
   "execution_count": 29,
   "id": "ea262872-b158-443e-bf97-7c3833b8eb09",
   "metadata": {},
   "outputs": [],
   "source": [
    "# Lists to store loss and accuracy for plotting\n",
    "train_losses = []\n",
    "train_accuracies = []\n",
    "val_accuracies = []"
   ]
  },
  {
   "cell_type": "markdown",
   "id": "5076cb18-19b8-44e9-b94c-ae64b2aa6ce0",
   "metadata": {},
   "source": [
    "Choose the GPU, if avaliable"
   ]
  },
  {
   "cell_type": "code",
   "execution_count": 30,
   "id": "ce1d966b-771d-4379-9068-b2012b6d8b22",
   "metadata": {},
   "outputs": [],
   "source": [
    "# Check if CUDA is available and use the GPU if possible\n",
    "device = torch.device('cuda' if torch.cuda.is_available() else 'cpu')\n",
    "\n",
    "# Move the model to the GPU\n",
    "model = model.to(device)"
   ]
  },
  {
   "cell_type": "markdown",
   "id": "61462bc0-b6dd-4234-8d31-ffabf419fb90",
   "metadata": {},
   "source": [
    "Training the model"
   ]
  },
  {
   "cell_type": "code",
   "execution_count": 36,
   "id": "e274658b-1ee3-4473-ab6b-0ba3335bd7f9",
   "metadata": {},
   "outputs": [
    {
     "name": "stdout",
     "output_type": "stream",
     "text": [
      "Epoch [1/100], Train Loss: 7.2518, Train Acc: 1.25%, \n",
      "Epoch [2/100], Train Loss: 7.2505, Train Acc: 1.38%, \n",
      "Epoch [3/100], Train Loss: 7.2463, Train Acc: 1.84%, \n",
      "Epoch [4/100], Train Loss: 7.2518, Train Acc: 1.21%, \n",
      "Epoch [5/100], Train Loss: 7.2495, Train Acc: 1.55%, \n",
      "Epoch [6/100], Train Loss: 7.2503, Train Acc: 1.46%, \n",
      "Epoch [7/100], Train Loss: 7.2493, Train Acc: 1.55%, \n",
      "Epoch [8/100], Train Loss: 7.2486, Train Acc: 1.59%, \n",
      "Epoch [9/100], Train Loss: 7.2492, Train Acc: 1.55%, \n",
      "Epoch [10/100], Train Loss: 7.2479, Train Acc: 1.67%, \n",
      "Epoch [11/100], Train Loss: 7.2486, Train Acc: 1.59%, \n",
      "Epoch [12/100], Train Loss: 7.2489, Train Acc: 1.55%, \n",
      "Epoch [13/100], Train Loss: 7.2480, Train Acc: 1.63%, \n",
      "Epoch [14/100], Train Loss: 7.2475, Train Acc: 1.63%, \n",
      "Epoch [15/100], Train Loss: 7.2430, Train Acc: 2.26%, \n",
      "Epoch [16/100], Train Loss: 7.2404, Train Acc: 2.47%, \n",
      "Epoch [17/100], Train Loss: 7.2406, Train Acc: 2.38%, \n",
      "Epoch [18/100], Train Loss: 7.2406, Train Acc: 2.42%, \n",
      "Epoch [19/100], Train Loss: 7.2401, Train Acc: 2.42%, \n",
      "Epoch [20/100], Train Loss: 7.2387, Train Acc: 2.59%, \n",
      "Epoch [21/100], Train Loss: 7.2380, Train Acc: 2.68%, \n",
      "Epoch [22/100], Train Loss: 7.2387, Train Acc: 2.63%, \n",
      "Epoch [23/100], Train Loss: 7.2375, Train Acc: 2.72%, \n",
      "Epoch [24/100], Train Loss: 7.2377, Train Acc: 2.68%, \n",
      "Epoch [25/100], Train Loss: 7.2372, Train Acc: 2.72%, \n",
      "Epoch [26/100], Train Loss: 7.2371, Train Acc: 2.72%, \n",
      "Epoch [27/100], Train Loss: 7.2380, Train Acc: 2.68%, \n",
      "Epoch [28/100], Train Loss: 7.2373, Train Acc: 2.68%, \n",
      "Epoch [29/100], Train Loss: 7.2364, Train Acc: 2.76%, \n",
      "Epoch [30/100], Train Loss: 7.2363, Train Acc: 2.76%, \n",
      "Epoch [31/100], Train Loss: 7.2369, Train Acc: 2.76%, \n",
      "Epoch [32/100], Train Loss: 7.2364, Train Acc: 2.76%, \n",
      "Epoch [33/100], Train Loss: 7.2363, Train Acc: 2.68%, \n",
      "Epoch [34/100], Train Loss: 7.2348, Train Acc: 2.97%, \n",
      "Epoch [35/100], Train Loss: 7.2352, Train Acc: 3.05%, \n",
      "Epoch [36/100], Train Loss: 7.2324, Train Acc: 3.22%, \n",
      "Epoch [37/100], Train Loss: 7.2328, Train Acc: 3.26%, \n",
      "Epoch [38/100], Train Loss: 7.2311, Train Acc: 3.47%, \n",
      "Epoch [39/100], Train Loss: 7.2319, Train Acc: 3.26%, \n",
      "Epoch [40/100], Train Loss: 7.2319, Train Acc: 3.26%, \n",
      "Epoch [41/100], Train Loss: 7.2307, Train Acc: 3.34%, \n",
      "Epoch [42/100], Train Loss: 7.2328, Train Acc: 3.18%, \n",
      "Epoch [43/100], Train Loss: 7.2297, Train Acc: 3.55%, \n",
      "Epoch [44/100], Train Loss: 7.2291, Train Acc: 3.60%, \n",
      "Epoch [45/100], Train Loss: 7.2288, Train Acc: 3.55%, \n",
      "Epoch [46/100], Train Loss: 7.2282, Train Acc: 3.64%, \n",
      "Epoch [47/100], Train Loss: 7.2282, Train Acc: 3.55%, \n",
      "Epoch [48/100], Train Loss: 7.2235, Train Acc: 4.22%, \n",
      "Epoch [49/100], Train Loss: 7.2235, Train Acc: 4.26%, \n",
      "Epoch [50/100], Train Loss: 7.2229, Train Acc: 4.26%, \n",
      "Epoch [51/100], Train Loss: 7.2233, Train Acc: 4.22%, \n",
      "Epoch [52/100], Train Loss: 7.2232, Train Acc: 4.31%, \n",
      "Epoch [53/100], Train Loss: 7.2189, Train Acc: 4.60%, \n",
      "Epoch [54/100], Train Loss: 7.2201, Train Acc: 4.47%, \n",
      "Epoch [55/100], Train Loss: 7.2188, Train Acc: 4.64%, \n",
      "Epoch [56/100], Train Loss: 7.2178, Train Acc: 4.72%, \n",
      "Epoch [57/100], Train Loss: 7.2174, Train Acc: 4.81%, \n",
      "Epoch [58/100], Train Loss: 7.2183, Train Acc: 4.72%, \n",
      "Epoch [59/100], Train Loss: 7.2167, Train Acc: 4.85%, \n",
      "Epoch [60/100], Train Loss: 7.2186, Train Acc: 4.60%, \n",
      "Epoch [61/100], Train Loss: 7.2175, Train Acc: 4.77%, \n",
      "Epoch [62/100], Train Loss: 7.2139, Train Acc: 5.06%, \n",
      "Epoch [63/100], Train Loss: 7.2140, Train Acc: 5.23%, \n",
      "Epoch [64/100], Train Loss: 7.2124, Train Acc: 5.23%, \n",
      "Epoch [65/100], Train Loss: 7.2114, Train Acc: 5.39%, \n",
      "Epoch [66/100], Train Loss: 7.2081, Train Acc: 5.73%, \n",
      "Epoch [67/100], Train Loss: 7.2104, Train Acc: 5.56%, \n",
      "Epoch [68/100], Train Loss: 7.2082, Train Acc: 5.64%, \n",
      "Epoch [69/100], Train Loss: 7.2089, Train Acc: 5.60%, \n",
      "Epoch [70/100], Train Loss: 7.2091, Train Acc: 5.60%, \n",
      "Epoch [71/100], Train Loss: 7.2080, Train Acc: 5.64%, \n",
      "Epoch [72/100], Train Loss: 7.2107, Train Acc: 5.48%, \n",
      "Epoch [73/100], Train Loss: 7.2074, Train Acc: 5.73%, \n",
      "Epoch [74/100], Train Loss: 7.2075, Train Acc: 5.77%, \n",
      "Epoch [75/100], Train Loss: 7.2057, Train Acc: 5.89%, \n",
      "Epoch [76/100], Train Loss: 7.2078, Train Acc: 5.69%, \n",
      "Epoch [77/100], Train Loss: 7.2063, Train Acc: 5.98%, \n",
      "Epoch [78/100], Train Loss: 7.2048, Train Acc: 5.94%, \n",
      "Epoch [79/100], Train Loss: 7.2045, Train Acc: 6.06%, \n",
      "Epoch [80/100], Train Loss: 7.2036, Train Acc: 6.19%, \n",
      "Epoch [81/100], Train Loss: 7.2068, Train Acc: 5.64%, \n",
      "Epoch [82/100], Train Loss: 7.2038, Train Acc: 6.10%, \n",
      "Epoch [83/100], Train Loss: 7.2049, Train Acc: 5.89%, \n",
      "Epoch [84/100], Train Loss: 7.2046, Train Acc: 6.02%, \n",
      "Epoch [85/100], Train Loss: 7.2019, Train Acc: 6.35%, \n",
      "Epoch [86/100], Train Loss: 7.2039, Train Acc: 6.31%, \n",
      "Epoch [87/100], Train Loss: 7.2027, Train Acc: 6.19%, \n",
      "Epoch [88/100], Train Loss: 7.2039, Train Acc: 6.06%, \n",
      "Epoch [89/100], Train Loss: 7.2009, Train Acc: 6.48%, \n",
      "Epoch [90/100], Train Loss: 7.1972, Train Acc: 6.94%, \n",
      "Epoch [91/100], Train Loss: 7.2008, Train Acc: 6.40%, \n",
      "Epoch [92/100], Train Loss: 7.1979, Train Acc: 6.69%, \n",
      "Epoch [93/100], Train Loss: 7.1978, Train Acc: 6.69%, \n",
      "Epoch [94/100], Train Loss: 7.1968, Train Acc: 6.98%, \n",
      "Epoch [95/100], Train Loss: 7.1938, Train Acc: 7.19%, \n",
      "Epoch [96/100], Train Loss: 7.1948, Train Acc: 6.98%, \n",
      "Epoch [97/100], Train Loss: 7.1930, Train Acc: 7.23%, \n",
      "Epoch [98/100], Train Loss: 7.1951, Train Acc: 7.02%, \n",
      "Epoch [99/100], Train Loss: 7.1926, Train Acc: 7.53%, \n",
      "Epoch [100/100], Train Loss: 7.1941, Train Acc: 7.07%, \n"
     ]
    }
   ],
   "source": [
    "for epoch in range(num_epochs):\n",
    "    # Training phase\n",
    "    model.train()\n",
    "    total_loss = 0\n",
    "    correct = 0\n",
    "    total = 0\n",
    "    for batch_X, batch_y in train_loader:\n",
    "        # # Move the batch to the GPU\n",
    "        # batch_X, batch_y = batch_X.to(device), batch_y.to(device)\n",
    "\n",
    "        # Convert one-hot encoded batch_y to class indices\n",
    "        batch_y_indices = torch.argmax(batch_y, dim=1)  # Convert one-hot to class indices\n",
    "\n",
    "        \n",
    "        # Forward pass\n",
    "        outputs = model(batch_X)\n",
    "        # loss = loss_fn(outputs, batch_y)\n",
    "\n",
    "        # Compute loss\n",
    "        loss = loss_fn(outputs, batch_y_indices)  # Pass indices to loss function\n",
    "\n",
    "        # Backward pass and optimization\n",
    "        optimizer.zero_grad()\n",
    "        loss.backward()\n",
    "        optimizer.step()\n",
    "\n",
    "        total_loss += loss.item()\n",
    "        # _, predicted = torch.max(outputs.data, 1)\n",
    "        # total += batch_y.size(0)\n",
    "        # correct += (predicted == batch_y).sum().item()\n",
    "\n",
    "        # Get predicted class indices\n",
    "        _, predicted = torch.max(outputs.data, 1)  # Outputs are of shape [batch_size, num_classes]\n",
    "        \n",
    "        # Calculate correct predictions\n",
    "        total += batch_y_indices.size(0)\n",
    "        correct += (predicted == batch_y_indices).sum().item()\n",
    "\n",
    "    avg_train_loss = total_loss / len(train_loader)\n",
    "    train_accuracy = 100 * correct / total\n",
    "    train_losses.append(avg_train_loss)\n",
    "    train_accuracies.append(train_accuracy)\n",
    "\n",
    "    # # Validation phase (removed because of time issues)\n",
    "    # model.eval()\n",
    "    # val_loss = 0\n",
    "    # val_correct = 0\n",
    "    # val_total = 0\n",
    "    # with torch.no_grad():\n",
    "    #     for val_X, val_y in val_loader:\n",
    "    #         outputs = model(val_X)\n",
    "    #         loss = loss_fn(outputs, val_y)\n",
    "    #         val_loss += loss.item()\n",
    "    #         _, predicted = torch.max(outputs.data, 1)\n",
    "    #         val_total += val_y.size(0)\n",
    "    #         val_correct += (predicted == val_y).sum().item()\n",
    "\n",
    "    # avg_val_loss = val_loss / len(val_loader)\n",
    "    # val_accuracy = 100 * val_correct / val_total\n",
    "    # val_losses.append(avg_val_loss)\n",
    "    # val_accuracies.append(val_accuracy)\n",
    "\n",
    "    # Save the model after each epoch\n",
    "    torch.save(model.state_dict(), \"base_model.pth\")\n",
    "\n",
    "    print(f'Epoch [{epoch+1}/{num_epochs}], '\n",
    "          f'Train Loss: {avg_train_loss:.4f}, Train Acc: {train_accuracy:.2f}%, ')\n",
    "          # f'Val Loss: {avg_val_loss:.4f}, Val Acc: {val_accuracy:.2f}%')"
   ]
  },
  {
   "cell_type": "markdown",
   "id": "9b13cfb2-87bb-45a2-a9fb-88de8a2ab01f",
   "metadata": {},
   "source": [
    "### ANN analysis"
   ]
  },
  {
   "cell_type": "markdown",
   "id": "82957d2f-5eae-4c96-9782-18b215c06e99",
   "metadata": {},
   "source": [
    "Data from training process"
   ]
  },
  {
   "cell_type": "code",
   "execution_count": 37,
   "id": "7fc24f80-e394-47e6-904e-e4879c5ed5b0",
   "metadata": {},
   "outputs": [
    {
     "data": {
      "image/png": "[encoded data removed]",
      "text/plain": [
       "<Figure size 1200x500 with 2 Axes>"
      ]
     },
     "metadata": {},
     "output_type": "display_data"
    }
   ],
   "source": [
    "# Visualization of Loss and Accuracy\n",
    "\n",
    "# Plot Loss over epochs\n",
    "plt.figure(figsize=(12, 5))\n",
    "plt.subplot(1, 2, 1)\n",
    "plt.plot(train_losses, label='Train Loss')\n",
    "plt.title('Loss over Epochs')\n",
    "plt.xlabel('Epoch')\n",
    "plt.ylabel('Loss')\n",
    "plt.legend()\n",
    "\n",
    "# Plot Accuracy over epochs\n",
    "plt.subplot(1, 2, 2)\n",
    "plt.plot(train_accuracies, label='Train Accuracy')\n",
    "plt.title('Accuracy over Epochs')\n",
    "plt.xlabel('Epoch')\n",
    "plt.ylabel('Accuracy (%)')\n",
    "plt.legend()\n",
    "\n",
    "plt.show()"
   ]
  },
  {
   "cell_type": "markdown",
   "id": "670fbd64-baa8-4164-bc30-e8740ab4f8a9",
   "metadata": {},
   "source": [
    "Model final evaluation"
   ]
  },
  {
   "cell_type": "code",
   "execution_count": 41,
   "id": "06147990-64ec-4904-97e6-2004db367e11",
   "metadata": {},
   "outputs": [
    {
     "ename": "ValueError",
     "evalue": "Classification metrics can't handle a mix of multilabel-indicator and multiclass targets",
     "output_type": "error",
     "traceback": [
      "\u001b[0;31m---------------------------------------------------------------------------\u001b[0m",
      "\u001b[0;31mValueError\u001b[0m                                Traceback (most recent call last)",
      "Cell \u001b[0;32mIn[41], line 14\u001b[0m\n\u001b[1;32m     11\u001b[0m         all_labels\u001b[38;5;241m.\u001b[39mextend(test_y\u001b[38;5;241m.\u001b[39mcpu()\u001b[38;5;241m.\u001b[39mnumpy())\n\u001b[1;32m     13\u001b[0m \u001b[38;5;66;03m# Compute metrics\u001b[39;00m\n\u001b[0;32m---> 14\u001b[0m test_accuracy \u001b[38;5;241m=\u001b[39m \u001b[43maccuracy_score\u001b[49m\u001b[43m(\u001b[49m\u001b[43mall_labels\u001b[49m\u001b[43m,\u001b[49m\u001b[43m \u001b[49m\u001b[43mall_preds\u001b[49m\u001b[43m)\u001b[49m \u001b[38;5;241m*\u001b[39m \u001b[38;5;241m100\u001b[39m\n\u001b[1;32m     15\u001b[0m precision \u001b[38;5;241m=\u001b[39m precision_score(all_labels, all_preds, average\u001b[38;5;241m=\u001b[39m\u001b[38;5;124m'\u001b[39m\u001b[38;5;124mweighted\u001b[39m\u001b[38;5;124m'\u001b[39m, zero_division\u001b[38;5;241m=\u001b[39m\u001b[38;5;241m0\u001b[39m)\n\u001b[1;32m     16\u001b[0m recall \u001b[38;5;241m=\u001b[39m recall_score(all_labels, all_preds, average\u001b[38;5;241m=\u001b[39m\u001b[38;5;124m'\u001b[39m\u001b[38;5;124mweighted\u001b[39m\u001b[38;5;124m'\u001b[39m, zero_division\u001b[38;5;241m=\u001b[39m\u001b[38;5;241m0\u001b[39m)\n",
      "File \u001b[0;32m~/.local/lib/python3.10/site-packages/sklearn/utils/_param_validation.py:211\u001b[0m, in \u001b[0;36mvalidate_params.<locals>.decorator.<locals>.wrapper\u001b[0;34m(*args, **kwargs)\u001b[0m\n\u001b[1;32m    205\u001b[0m \u001b[38;5;28;01mtry\u001b[39;00m:\n\u001b[1;32m    206\u001b[0m     \u001b[38;5;28;01mwith\u001b[39;00m config_context(\n\u001b[1;32m    207\u001b[0m         skip_parameter_validation\u001b[38;5;241m=\u001b[39m(\n\u001b[1;32m    208\u001b[0m             prefer_skip_nested_validation \u001b[38;5;129;01mor\u001b[39;00m global_skip_validation\n\u001b[1;32m    209\u001b[0m         )\n\u001b[1;32m    210\u001b[0m     ):\n\u001b[0;32m--> 211\u001b[0m         \u001b[38;5;28;01mreturn\u001b[39;00m \u001b[43mfunc\u001b[49m\u001b[43m(\u001b[49m\u001b[38;5;241;43m*\u001b[39;49m\u001b[43margs\u001b[49m\u001b[43m,\u001b[49m\u001b[43m \u001b[49m\u001b[38;5;241;43m*\u001b[39;49m\u001b[38;5;241;43m*\u001b[39;49m\u001b[43mkwargs\u001b[49m\u001b[43m)\u001b[49m\n\u001b[1;32m    212\u001b[0m \u001b[38;5;28;01mexcept\u001b[39;00m InvalidParameterError \u001b[38;5;28;01mas\u001b[39;00m e:\n\u001b[1;32m    213\u001b[0m     \u001b[38;5;66;03m# When the function is just a wrapper around an estimator, we allow\u001b[39;00m\n\u001b[1;32m    214\u001b[0m     \u001b[38;5;66;03m# the function to delegate validation to the estimator, but we replace\u001b[39;00m\n\u001b[1;32m    215\u001b[0m     \u001b[38;5;66;03m# the name of the estimator by the name of the function in the error\u001b[39;00m\n\u001b[1;32m    216\u001b[0m     \u001b[38;5;66;03m# message to avoid confusion.\u001b[39;00m\n\u001b[1;32m    217\u001b[0m     msg \u001b[38;5;241m=\u001b[39m re\u001b[38;5;241m.\u001b[39msub(\n\u001b[1;32m    218\u001b[0m         \u001b[38;5;124mr\u001b[39m\u001b[38;5;124m\"\u001b[39m\u001b[38;5;124mparameter of \u001b[39m\u001b[38;5;124m\\\u001b[39m\u001b[38;5;124mw+ must be\u001b[39m\u001b[38;5;124m\"\u001b[39m,\n\u001b[1;32m    219\u001b[0m         \u001b[38;5;124mf\u001b[39m\u001b[38;5;124m\"\u001b[39m\u001b[38;5;124mparameter of \u001b[39m\u001b[38;5;132;01m{\u001b[39;00mfunc\u001b[38;5;241m.\u001b[39m\u001b[38;5;18m__qualname__\u001b[39m\u001b[38;5;132;01m}\u001b[39;00m\u001b[38;5;124m must be\u001b[39m\u001b[38;5;124m\"\u001b[39m,\n\u001b[1;32m    220\u001b[0m         \u001b[38;5;28mstr\u001b[39m(e),\n\u001b[1;32m    221\u001b[0m     )\n",
      "File \u001b[0;32m~/.local/lib/python3.10/site-packages/sklearn/metrics/_classification.py:220\u001b[0m, in \u001b[0;36maccuracy_score\u001b[0;34m(y_true, y_pred, normalize, sample_weight)\u001b[0m\n\u001b[1;32m    154\u001b[0m \u001b[38;5;250m\u001b[39m\u001b[38;5;124;03m\"\"\"Accuracy classification score.\u001b[39;00m\n\u001b[1;32m    155\u001b[0m \n\u001b[1;32m    156\u001b[0m \u001b[38;5;124;03mIn multilabel classification, this function computes subset accuracy:\u001b[39;00m\n\u001b[0;32m   (...)\u001b[0m\n\u001b[1;32m    216\u001b[0m \u001b[38;5;124;03m0.5\u001b[39;00m\n\u001b[1;32m    217\u001b[0m \u001b[38;5;124;03m\"\"\"\u001b[39;00m\n\u001b[1;32m    219\u001b[0m \u001b[38;5;66;03m# Compute accuracy for each possible representation\u001b[39;00m\n\u001b[0;32m--> 220\u001b[0m y_type, y_true, y_pred \u001b[38;5;241m=\u001b[39m \u001b[43m_check_targets\u001b[49m\u001b[43m(\u001b[49m\u001b[43my_true\u001b[49m\u001b[43m,\u001b[49m\u001b[43m \u001b[49m\u001b[43my_pred\u001b[49m\u001b[43m)\u001b[49m\n\u001b[1;32m    221\u001b[0m check_consistent_length(y_true, y_pred, sample_weight)\n\u001b[1;32m    222\u001b[0m \u001b[38;5;28;01mif\u001b[39;00m y_type\u001b[38;5;241m.\u001b[39mstartswith(\u001b[38;5;124m\"\u001b[39m\u001b[38;5;124mmultilabel\u001b[39m\u001b[38;5;124m\"\u001b[39m):\n",
      "File \u001b[0;32m~/.local/lib/python3.10/site-packages/sklearn/metrics/_classification.py:93\u001b[0m, in \u001b[0;36m_check_targets\u001b[0;34m(y_true, y_pred)\u001b[0m\n\u001b[1;32m     90\u001b[0m     y_type \u001b[38;5;241m=\u001b[39m {\u001b[38;5;124m\"\u001b[39m\u001b[38;5;124mmulticlass\u001b[39m\u001b[38;5;124m\"\u001b[39m}\n\u001b[1;32m     92\u001b[0m \u001b[38;5;28;01mif\u001b[39;00m \u001b[38;5;28mlen\u001b[39m(y_type) \u001b[38;5;241m>\u001b[39m \u001b[38;5;241m1\u001b[39m:\n\u001b[0;32m---> 93\u001b[0m     \u001b[38;5;28;01mraise\u001b[39;00m \u001b[38;5;167;01mValueError\u001b[39;00m(\n\u001b[1;32m     94\u001b[0m         \u001b[38;5;124m\"\u001b[39m\u001b[38;5;124mClassification metrics can\u001b[39m\u001b[38;5;124m'\u001b[39m\u001b[38;5;124mt handle a mix of \u001b[39m\u001b[38;5;132;01m{0}\u001b[39;00m\u001b[38;5;124m and \u001b[39m\u001b[38;5;132;01m{1}\u001b[39;00m\u001b[38;5;124m targets\u001b[39m\u001b[38;5;124m\"\u001b[39m\u001b[38;5;241m.\u001b[39mformat(\n\u001b[1;32m     95\u001b[0m             type_true, type_pred\n\u001b[1;32m     96\u001b[0m         )\n\u001b[1;32m     97\u001b[0m     )\n\u001b[1;32m     99\u001b[0m \u001b[38;5;66;03m# We can't have more than one value on y_type => The set is no more needed\u001b[39;00m\n\u001b[1;32m    100\u001b[0m y_type \u001b[38;5;241m=\u001b[39m y_type\u001b[38;5;241m.\u001b[39mpop()\n",
      "\u001b[0;31mValueError\u001b[0m: Classification metrics can't handle a mix of multilabel-indicator and multiclass targets"
     ]
    }
   ],
   "source": [
    "# Evaluate on Test Data and Compute Performance Metrics\n",
    "\n",
    "model.eval()\n",
    "all_preds = []\n",
    "all_labels = []\n",
    "with torch.no_grad():\n",
    "    for test_X, test_y in test_loader:\n",
    "        outputs = model(test_X)\n",
    "        _, predicted = torch.max(outputs.data, 1)\n",
    "        all_preds.extend(predicted.cpu().numpy())\n",
    "        all_labels.extend(test_y.cpu().numpy())\n",
    "\n",
    "# Compute metrics\n",
    "test_accuracy = accuracy_score(all_labels, all_preds) * 100\n",
    "precision = precision_score(all_labels, all_preds, average='weighted', zero_division=0)\n",
    "recall = recall_score(all_labels, all_preds, average='weighted', zero_division=0)\n",
    "f1 = f1_score(all_labels, all_preds, average='weighted', zero_division=0)\n",
    "\n",
    "print(f'Test Accuracy: {test_accuracy:.2f}%')\n",
    "print(f'Precision: {precision:.4f}')\n",
    "print(f'Recall: {recall:.4f}')\n",
    "print(f'F1 Score: {f1:.4f}')"
   ]
  },
  {
   "cell_type": "markdown",
   "id": "260911a6-22b3-4cef-8f45-1c48702a9c7c",
   "metadata": {},
   "source": [
    "Save the base model"
   ]
  },
  {
   "cell_type": "code",
   "execution_count": 34,
   "id": "cf8beeed-2768-40cf-9001-0baa530c2888",
   "metadata": {},
   "outputs": [
    {
     "name": "stdout",
     "output_type": "stream",
     "text": [
      "Model saved as 'base_model.pth'\n"
     ]
    }
   ],
   "source": [
    "# Save the trained model\n",
    "torch.save(model.state_dict(), \"base_model.pth\")\n",
    "print(\"Model saved as 'base_model.pth'\")"
   ]
  }
 ],
 "metadata": {
  "kernelspec": {
   "display_name": "Python 3 (ipykernel)",
   "language": "python",
   "name": "python3"
  },
  "language_info": {
   "codemirror_mode": {
    "name": "ipython",
    "version": 3
   },
   "file_extension": ".py",
   "mimetype": "text/x-python",
   "name": "python",
   "nbconvert_exporter": "python",
   "pygments_lexer": "ipython3",
   "version": "3.10.12"
  }
 },
 "nbformat": 4,
 "nbformat_minor": 5
}
