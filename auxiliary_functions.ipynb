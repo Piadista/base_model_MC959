{
 "cells": [
  {
   "cell_type": "code",
   "execution_count": 2,
   "metadata": {},
   "outputs": [
    {
     "name": "stdout",
     "output_type": "stream",
     "text": [
      "              cve_id                                    cve_description  \\\n",
      "0     CVE-2024-37032  Large language model (LLM) management tool doe...   \n",
      "1     CVE-2022-45918  Chain: a learning management tool debugger use...   \n",
      "2     CVE-2021-30860  Chain: improper input validation (CWE-20) lead...   \n",
      "3     CVE-2021-30663  Chain: improper input validation (CWE-20) lead...   \n",
      "4     CVE-2021-22205  Chain: backslash followed by a newline can byp...   \n",
      "...              ...                                                ...   \n",
      "2986  CVE-2021-33149  (RSB underflow, Retbleed). Shared return stack...   \n",
      "2987   CVE-2024-3402  chain: GUI for ChatGPT API performs input vali...   \n",
      "2988  CVE-2023-32786  Chain: LLM integration framework has prompt in...   \n",
      "2989   CVE-2024-5184  ML-based email analysis product uses an API se...   \n",
      "2990   CVE-2024-5565  Chain: library for generating SQL via LLMs usi...   \n",
      "\n",
      "        cwe_id                                    cwe_description  \n",
      "0       CWE-20                          Improper Input Validation  \n",
      "1       CWE-20                          Improper Input Validation  \n",
      "2       CWE-20                          Improper Input Validation  \n",
      "3       CWE-20                          Improper Input Validation  \n",
      "4       CWE-20                          Improper Input Validation  \n",
      "...        ...                                                ...  \n",
      "2986  CWE-1423  Exposure of Sensitive Information caused by Sh...  \n",
      "2987  CWE-1426        Improper Validation of Generative AI Output  \n",
      "2988  CWE-1427  Improper Neutralization of Input Used for LLM ...  \n",
      "2989  CWE-1427  Improper Neutralization of Input Used for LLM ...  \n",
      "2990  CWE-1427  Improper Neutralization of Input Used for LLM ...  \n",
      "\n",
      "[2991 rows x 4 columns]\n"
     ]
    }
   ],
   "source": [
    "import pandas as pd\n",
    "\n",
    "csv_file_path = './raw_data/CWE2CVE Observed Examples - Página1.csv'  \n",
    "cwe2cve = pd.read_csv(csv_file_path)\n",
    "\n",
    "# Expanda a coluna \"Observed Examples\" para criar novas colunas\n",
    "data = []\n",
    "\n",
    "for index, row in cwe2cve.iterrows():\n",
    "    observed_examples = row['Observed Examples'].split(\"::REFERENCE:\")[1:]  # Dividir pelos CVEs\n",
    "    for example in observed_examples:\n",
    "        reference = example.split(\":DESCRIPTION:\")[0]\n",
    "        description = example.split(\":DESCRIPTION:\")[1].split(\":LINK:\")[0]\n",
    "        data.append({\n",
    "            \"REFERENCE\": reference,\n",
    "            \"DESCRIPTION\": description,\n",
    "            \"CWE-ID\": row[\"CWE-ID\"],\n",
    "            \"Name\": row[\"Name\"]\n",
    "        })\n",
    "\n",
    "# Criando o novo dataframe\n",
    "df_expanded = pd.DataFrame(data)\n",
    "\n",
    "df_expanded.rename(columns={\n",
    "    \"REFERENCE\" : \"cve_id\",\n",
    "    \"DESCRIPTION\": \"cve_description\",\n",
    "    \"CWE-ID\": \"cwe_id\",\n",
    "    \"Name\" : \"cwe_description\"\n",
    "}, inplace=True)\n",
    "\n",
    "# df_expanded.to_csv('cwe2cve_dataset.csv', index=False)\n",
    "\n",
    "df_expanded.to_excel('output.xlsx', index=False)\n",
    "\n",
    "print(df_expanded)"
   ]
  },
  {
   "cell_type": "code",
   "execution_count": null,
   "metadata": {},
   "outputs": [
    {
     "name": "stdout",
     "output_type": "stream",
     "text": [
      "Arquivo CSV gerado com sucesso: cwe_dataset.csv\n"
     ]
    }
   ],
   "source": [
    "import xml.etree.ElementTree as ET\n",
    "import csv\n",
    "\n",
    "# Substitua 'caminho_do_arquivo.xml' pelo caminho local do seu arquivo XML\n",
    "xml_file = r\"C:\\Users\\leo72\\Documents\\Mestrado\\Disciplinas - Segundo Semestre de 2024\\MC959A - TÓPICOS EM INTELIGÊNCIA ARTIFICIAL\\Projeto de Conclusão\\codigo\\cwec_v4.16.xml\"\n",
    "output_file = 'cwe_dataset.csv'\n",
    "\n",
    "# Parse o arquivo XML\n",
    "tree = ET.parse(xml_file)\n",
    "root = tree.getroot()\n",
    "\n",
    "# Namespace para tratar as tags corretamente\n",
    "namespace = {'ns': 'http://cwe.mitre.org/cwe-7'}\n",
    "\n",
    "# Lista para armazenar os dados extraídos\n",
    "data = []\n",
    "\n",
    "# Função para limpar quebras de linha e espaços extras\n",
    "def clean_text(text):\n",
    "    return ' '.join(text.split()) if text else \"No description available\"\n",
    "\n",
    "# Iterar pelas tags Weakness\n",
    "for weakness in root.findall('.//ns:Weakness', namespace):\n",
    "    cwe_id = f\"CWE-{weakness.get('ID')}\"  # Extrai o ID do CWE\n",
    "    title = weakness.get('Name')  # Extrai o título (Name)\n",
    "    description_elem = weakness.find('ns:Description', namespace)  # Extrai a descrição\n",
    "    description_text = clean_text(description_elem.text) if description_elem is not None else \"No description available\"\n",
    "    \n",
    "    data.append({'cwe_id': cwe_id, 'title': title, 'description': description_text})\n",
    "\n",
    "# Ordenar os dados por CWE-ID (inteiros)\n",
    "data_sorted = sorted(data, key=lambda x: int(x['cwe_id'].split('-')[1]))\n",
    "\n",
    "# Escrever os dados extraídos em um arquivo CSV\n",
    "with open(output_file, mode='w', newline='', encoding='utf-8') as csvfile:\n",
    "    fieldnames = ['cwe_id', 'title', 'description']\n",
    "    writer = csv.DictWriter(csvfile, fieldnames=fieldnames)\n",
    "    \n",
    "    writer.writeheader()\n",
    "    writer.writerows(data_sorted)\n",
    "\n",
    "print(f\"Arquivo CSV gerado com sucesso: {output_file}\")"
   ]
  }
 ],
 "metadata": {
  "kernelspec": {
   "display_name": "Python 3",
   "language": "python",
   "name": "python3"
  },
  "language_info": {
   "codemirror_mode": {
    "name": "ipython",
    "version": 3
   },
   "file_extension": ".py",
   "mimetype": "text/x-python",
   "name": "python",
   "nbconvert_exporter": "python",
   "pygments_lexer": "ipython3",
   "version": "3.12.0"
  }
 },
 "nbformat": 4,
 "nbformat_minor": 2
}
